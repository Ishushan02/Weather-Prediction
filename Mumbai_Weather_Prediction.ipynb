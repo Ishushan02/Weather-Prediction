{
  "nbformat": 4,
  "nbformat_minor": 0,
  "metadata": {
    "colab": {
      "name": "Mumbai_Weather_Prediction.ipynb",
      "provenance": [],
      "collapsed_sections": []
    },
    "kernelspec": {
      "name": "python3",
      "display_name": "Python 3"
    },
    "language_info": {
      "name": "python"
    },
    "accelerator": "GPU"
  },
  "cells": [
    {
      "cell_type": "code",
      "metadata": {
        "id": "-gnuXZc7lekr"
      },
      "source": [
        "import tensorflow as tf\n",
        "from tensorflow import keras\n",
        "import pandas as pd\n",
        "import numpy as np\n",
        "import matplotlib.pyplot as plt\n",
        "from sklearn.preprocessing import MinMaxScaler"
      ],
      "execution_count": 47,
      "outputs": []
    },
    {
      "cell_type": "code",
      "metadata": {
        "colab": {
          "base_uri": "https://localhost:8080/"
        },
        "id": "dB9CK3qSl9ez",
        "outputId": "71c0797c-7260-410b-9fa1-2ea9f0f26078"
      },
      "source": [
        "data = pd.read_csv('/content/Mumbai_Weather_Dataset.csv', delim_whitespace=\" \", names = ['month', 'month_date', 'year', 'temprature'] )\n",
        "data.head(), data.tail()"
      ],
      "execution_count": 48,
      "outputs": [
        {
          "output_type": "execute_result",
          "data": {
            "text/plain": [
              "(   month  month_date  year  temprature\n",
              " 0      1           1  1995        71.8\n",
              " 1      1           2  1995        72.0\n",
              " 2      1           3  1995        70.3\n",
              " 3      1           4  1995        69.7\n",
              " 4      1           5  1995        71.3,\n",
              "       month  month_date  year  temprature\n",
              " 9261      5           9  2020        87.3\n",
              " 9262      5          10  2020        87.7\n",
              " 9263      5          11  2020        88.1\n",
              " 9264      5          12  2020        87.3\n",
              " 9265      5          13  2020        85.0)"
            ]
          },
          "metadata": {
            "tags": []
          },
          "execution_count": 48
        }
      ]
    },
    {
      "cell_type": "code",
      "metadata": {
        "colab": {
          "base_uri": "https://localhost:8080/"
        },
        "id": "bjMUCsXvmLIP",
        "outputId": "e076f941-1768-4ddc-f4b7-d020163fc49c"
      },
      "source": [
        "data.isnull().sum()"
      ],
      "execution_count": 49,
      "outputs": [
        {
          "output_type": "execute_result",
          "data": {
            "text/plain": [
              "month         0\n",
              "month_date    0\n",
              "year          0\n",
              "temprature    0\n",
              "dtype: int64"
            ]
          },
          "metadata": {
            "tags": []
          },
          "execution_count": 49
        }
      ]
    },
    {
      "cell_type": "markdown",
      "metadata": {
        "id": "J4RhF021nrkL"
      },
      "source": [
        "I am dropping all the columns except the last column, which means I am taking day- wise temprature data"
      ]
    },
    {
      "cell_type": "code",
      "metadata": {
        "colab": {
          "base_uri": "https://localhost:8080/",
          "height": 204
        },
        "id": "O9jDxS1JnjOV",
        "outputId": "aaf9672e-d740-4672-e818-c5f98bf7de00"
      },
      "source": [
        "data.drop(['month', 'month_date', 'year'], axis = 1,  inplace = True)\n",
        "data.tail()"
      ],
      "execution_count": 50,
      "outputs": [
        {
          "output_type": "execute_result",
          "data": {
            "text/html": [
              "<div>\n",
              "<style scoped>\n",
              "    .dataframe tbody tr th:only-of-type {\n",
              "        vertical-align: middle;\n",
              "    }\n",
              "\n",
              "    .dataframe tbody tr th {\n",
              "        vertical-align: top;\n",
              "    }\n",
              "\n",
              "    .dataframe thead th {\n",
              "        text-align: right;\n",
              "    }\n",
              "</style>\n",
              "<table border=\"1\" class=\"dataframe\">\n",
              "  <thead>\n",
              "    <tr style=\"text-align: right;\">\n",
              "      <th></th>\n",
              "      <th>temprature</th>\n",
              "    </tr>\n",
              "  </thead>\n",
              "  <tbody>\n",
              "    <tr>\n",
              "      <th>9261</th>\n",
              "      <td>87.3</td>\n",
              "    </tr>\n",
              "    <tr>\n",
              "      <th>9262</th>\n",
              "      <td>87.7</td>\n",
              "    </tr>\n",
              "    <tr>\n",
              "      <th>9263</th>\n",
              "      <td>88.1</td>\n",
              "    </tr>\n",
              "    <tr>\n",
              "      <th>9264</th>\n",
              "      <td>87.3</td>\n",
              "    </tr>\n",
              "    <tr>\n",
              "      <th>9265</th>\n",
              "      <td>85.0</td>\n",
              "    </tr>\n",
              "  </tbody>\n",
              "</table>\n",
              "</div>"
            ],
            "text/plain": [
              "      temprature\n",
              "9261        87.3\n",
              "9262        87.7\n",
              "9263        88.1\n",
              "9264        87.3\n",
              "9265        85.0"
            ]
          },
          "metadata": {
            "tags": []
          },
          "execution_count": 50
        }
      ]
    },
    {
      "cell_type": "code",
      "metadata": {
        "colab": {
          "base_uri": "https://localhost:8080/"
        },
        "id": "P0jYylZPn_hZ",
        "outputId": "3cfd258b-86a7-4a07-b181-7f2de7f3e60f"
      },
      "source": [
        "data.shape"
      ],
      "execution_count": 51,
      "outputs": [
        {
          "output_type": "execute_result",
          "data": {
            "text/plain": [
              "(9266, 1)"
            ]
          },
          "metadata": {
            "tags": []
          },
          "execution_count": 51
        }
      ]
    },
    {
      "cell_type": "code",
      "metadata": {
        "id": "NrniKJp4pCl3"
      },
      "source": [
        "x = np.arange(data.shape[0])"
      ],
      "execution_count": 52,
      "outputs": []
    },
    {
      "cell_type": "code",
      "metadata": {
        "colab": {
          "base_uri": "https://localhost:8080/",
          "height": 299
        },
        "id": "W7XoH3PFoM86",
        "outputId": "03aa5489-66dd-4952-cf80-a51dbca7b0c0"
      },
      "source": [
        "plt.plot(x[:200], data['temprature'][:200])\n",
        "plt.figure(figsize= (15, 7))"
      ],
      "execution_count": 53,
      "outputs": [
        {
          "output_type": "execute_result",
          "data": {
            "text/plain": [
              "<Figure size 1080x504 with 0 Axes>"
            ]
          },
          "metadata": {
            "tags": []
          },
          "execution_count": 53
        },
        {
          "output_type": "display_data",
          "data": {
            "image/png": "[encoded data removed]",
            "text/plain": [
              "<Figure size 432x288 with 1 Axes>"
            ]
          },
          "metadata": {
            "tags": [],
            "needs_background": "light"
          }
        },
        {
          "output_type": "display_data",
          "data": {
            "text/plain": [
              "<Figure size 1080x504 with 0 Axes>"
            ]
          },
          "metadata": {
            "tags": []
          }
        }
      ]
    },
    {
      "cell_type": "code",
      "metadata": {
        "id": "7fg8xzwOrm6G"
      },
      "source": [
        "training_data = np.array(dataset)"
      ],
      "execution_count": 54,
      "outputs": []
    },
    {
      "cell_type": "code",
      "metadata": {
        "id": "TE_2E4KirMJ7"
      },
      "source": [
        "dataset= data['temprature']\n",
        "training_data = np.array(dataset)\n",
        "training_data = training_data.reshape(-1, 1)"
      ],
      "execution_count": 55,
      "outputs": []
    },
    {
      "cell_type": "code",
      "metadata": {
        "id": "diaYxuq4oM_j"
      },
      "source": [
        "scaler = MinMaxScaler()\n",
        "scaled_training_data = scaler.fit_transform(training_data)"
      ],
      "execution_count": 56,
      "outputs": []
    },
    {
      "cell_type": "code",
      "metadata": {
        "colab": {
          "base_uri": "https://localhost:8080/"
        },
        "id": "fZuKcFL0qxiA",
        "outputId": "f87f8d1d-056c-44b3-a95f-dd0b34ddebf2"
      },
      "source": [
        "scaled_training_data\n"
      ],
      "execution_count": 57,
      "outputs": [
        {
          "output_type": "execute_result",
          "data": {
            "text/plain": [
              "array([[0.8914405 ],\n",
              "       [0.89248434],\n",
              "       [0.88361169],\n",
              "       ...,\n",
              "       [0.97651357],\n",
              "       [0.9723382 ],\n",
              "       [0.96033403]])"
            ]
          },
          "metadata": {
            "tags": []
          },
          "execution_count": 57
        }
      ]
    },
    {
      "cell_type": "code",
      "metadata": {
        "id": "-tbMDV1bruJH"
      },
      "source": [
        "training_size = int(scaled_training_data.shape[0] * 0.8)\n",
        "\n",
        "train_data = scaled_training_data[:training_size]\n",
        "test_data = scaled_training_data[training_size:]\n"
      ],
      "execution_count": 58,
      "outputs": []
    },
    {
      "cell_type": "code",
      "metadata": {
        "colab": {
          "base_uri": "https://localhost:8080/"
        },
        "id": "eQQ-zwIVr3ft",
        "outputId": "e25ea0c5-ca58-4e6e-dfe5-23e2d6d9f824"
      },
      "source": [
        "train_data.shape, test_data.shape"
      ],
      "execution_count": 59,
      "outputs": [
        {
          "output_type": "execute_result",
          "data": {
            "text/plain": [
              "((7412, 1), (1854, 1))"
            ]
          },
          "metadata": {
            "tags": []
          },
          "execution_count": 59
        }
      ]
    },
    {
      "cell_type": "markdown",
      "metadata": {
        "id": "yMRai1PatRmR"
      },
      "source": [
        "Converting them into window dataset of 30 days window length"
      ]
    },
    {
      "cell_type": "code",
      "metadata": {
        "colab": {
          "base_uri": "https://localhost:8080/"
        },
        "id": "56nImWTxwZWK",
        "outputId": "4c632479-6691-49b2-99fa-2afcfb17a1be"
      },
      "source": [
        "train_data[0:30]"
      ],
      "execution_count": 60,
      "outputs": [
        {
          "output_type": "execute_result",
          "data": {
            "text/plain": [
              "array([[0.8914405 ],\n",
              "       [0.89248434],\n",
              "       [0.88361169],\n",
              "       [0.88048017],\n",
              "       [0.8888309 ],\n",
              "       [0.90240084],\n",
              "       [0.89718163],\n",
              "       [0.88308977],\n",
              "       [0.8736952 ],\n",
              "       [0.87160752],\n",
              "       [0.88152401],\n",
              "       [0.88100209],\n",
              "       [0.88726514],\n",
              "       [0.90240084],\n",
              "       [0.89979123],\n",
              "       [0.88413361],\n",
              "       [0.90762004],\n",
              "       [0.90553236],\n",
              "       [0.89770355],\n",
              "       [0.89196242],\n",
              "       [0.8888309 ],\n",
              "       [0.89926931],\n",
              "       [0.88935282],\n",
              "       [0.8888309 ],\n",
              "       [0.88308977],\n",
              "       [0.89770355],\n",
              "       [0.90187891],\n",
              "       [0.92118998],\n",
              "       [0.91753653],\n",
              "       [0.91388309]])"
            ]
          },
          "metadata": {
            "tags": []
          },
          "execution_count": 60
        }
      ]
    },
    {
      "cell_type": "code",
      "metadata": {
        "id": "pRxjf4zPsS1R"
      },
      "source": [
        "X_train = []\n",
        "y_train = []\n",
        "X_test = []\n",
        "y_test = []\n",
        "time_stamp = 30\n",
        "for i in range(len(train_data) - time_stamp - 1):\n",
        "  X_train.append(train_data[i: i + time_stamp])\n",
        "  y_train.append(train_data[i+ time_stamp])\n",
        "\n",
        "for i in range(len(test_data) - time_stamp - 1):\n",
        "  X_test.append(test_data[i: i + time_stamp])\n",
        "  y_test.append(test_data[i+ time_stamp])"
      ],
      "execution_count": 61,
      "outputs": []
    },
    {
      "cell_type": "code",
      "metadata": {
        "colab": {
          "base_uri": "https://localhost:8080/"
        },
        "id": "Fznvuanrsplm",
        "outputId": "62285037-bb46-413b-ad08-e5274b6a59ca"
      },
      "source": [
        "X_train[0], y_train[0] "
      ],
      "execution_count": 62,
      "outputs": [
        {
          "output_type": "execute_result",
          "data": {
            "text/plain": [
              "(array([[0.8914405 ],\n",
              "        [0.89248434],\n",
              "        [0.88361169],\n",
              "        [0.88048017],\n",
              "        [0.8888309 ],\n",
              "        [0.90240084],\n",
              "        [0.89718163],\n",
              "        [0.88308977],\n",
              "        [0.8736952 ],\n",
              "        [0.87160752],\n",
              "        [0.88152401],\n",
              "        [0.88100209],\n",
              "        [0.88726514],\n",
              "        [0.90240084],\n",
              "        [0.89979123],\n",
              "        [0.88413361],\n",
              "        [0.90762004],\n",
              "        [0.90553236],\n",
              "        [0.89770355],\n",
              "        [0.89196242],\n",
              "        [0.8888309 ],\n",
              "        [0.89926931],\n",
              "        [0.88935282],\n",
              "        [0.8888309 ],\n",
              "        [0.88308977],\n",
              "        [0.89770355],\n",
              "        [0.90187891],\n",
              "        [0.92118998],\n",
              "        [0.91753653],\n",
              "        [0.91388309]]), array([0.92536534]))"
            ]
          },
          "metadata": {
            "tags": []
          },
          "execution_count": 62
        }
      ]
    },
    {
      "cell_type": "code",
      "metadata": {
        "colab": {
          "base_uri": "https://localhost:8080/"
        },
        "id": "j8K6bnB7uZKQ",
        "outputId": "b241875d-d5c4-4ab0-d31d-fd283787bee6"
      },
      "source": [
        "X_train[1], y_train[1] "
      ],
      "execution_count": 63,
      "outputs": [
        {
          "output_type": "execute_result",
          "data": {
            "text/plain": [
              "(array([[0.89248434],\n",
              "        [0.88361169],\n",
              "        [0.88048017],\n",
              "        [0.8888309 ],\n",
              "        [0.90240084],\n",
              "        [0.89718163],\n",
              "        [0.88308977],\n",
              "        [0.8736952 ],\n",
              "        [0.87160752],\n",
              "        [0.88152401],\n",
              "        [0.88100209],\n",
              "        [0.88726514],\n",
              "        [0.90240084],\n",
              "        [0.89979123],\n",
              "        [0.88413361],\n",
              "        [0.90762004],\n",
              "        [0.90553236],\n",
              "        [0.89770355],\n",
              "        [0.89196242],\n",
              "        [0.8888309 ],\n",
              "        [0.89926931],\n",
              "        [0.88935282],\n",
              "        [0.8888309 ],\n",
              "        [0.88308977],\n",
              "        [0.89770355],\n",
              "        [0.90187891],\n",
              "        [0.92118998],\n",
              "        [0.91753653],\n",
              "        [0.91388309],\n",
              "        [0.92536534]]), array([0.92849687]))"
            ]
          },
          "metadata": {
            "tags": []
          },
          "execution_count": 63
        }
      ]
    },
    {
      "cell_type": "code",
      "metadata": {
        "id": "7qgH_K4nxEsQ"
      },
      "source": [
        "X_train = np.array(X_train)\n",
        "y_train = np.array(y_train)\n",
        "X_test = np.array(X_test)\n",
        "y_test = np.array(y_test)"
      ],
      "execution_count": 64,
      "outputs": []
    },
    {
      "cell_type": "code",
      "metadata": {
        "colab": {
          "base_uri": "https://localhost:8080/"
        },
        "id": "avJ5wLKWudaB",
        "outputId": "6a576be7-339e-4b1f-affb-e18ff36dd7a5"
      },
      "source": [
        "X_train.shape, X_test.shape, y_train.shape, y_test.shape"
      ],
      "execution_count": 65,
      "outputs": [
        {
          "output_type": "execute_result",
          "data": {
            "text/plain": [
              "((7381, 30, 1), (1823, 30, 1), (7381, 1), (1823, 1))"
            ]
          },
          "metadata": {
            "tags": []
          },
          "execution_count": 65
        }
      ]
    },
    {
      "cell_type": "code",
      "metadata": {
        "colab": {
          "base_uri": "https://localhost:8080/"
        },
        "id": "Na4fffYcxByU",
        "outputId": "6636cf67-851e-417e-b1e7-f75dfde0971e"
      },
      "source": [
        "model = tf.keras.models.Sequential([\n",
        "  tf.keras.layers.LSTM(60, return_sequences=True, input_shape=(30, 1), activation=\"relu\"),\n",
        "  tf.keras.layers.LSTM(60, return_sequences=True, activation=\"relu\"),\n",
        "  tf.keras.layers.Flatten(),\n",
        "  tf.keras.layers.Dense(60, activation=\"relu\"),\n",
        "  tf.keras.layers.Dense(30, activation=\"relu\"),\n",
        "  tf.keras.layers.Dense(15, activation=\"relu\"),\n",
        "  tf.keras.layers.Dense(10, activation=\"relu\"),\n",
        "  tf.keras.layers.Dense(1)\n",
        "  ])\n",
        "model.compile(optimizer= 'adam', loss = 'mse', metrics = ['mae'])\n",
        "model.fit(X_train, y_train, epochs = 20, validation_data=(X_test, y_test))"
      ],
      "execution_count": 66,
      "outputs": [
        {
          "output_type": "stream",
          "text": [
            "WARNING:tensorflow:Layer lstm_12 will not use cuDNN kernel since it doesn't meet the cuDNN kernel criteria. It will use generic GPU kernel as fallback when running on GPU\n",
            "WARNING:tensorflow:Layer lstm_13 will not use cuDNN kernel since it doesn't meet the cuDNN kernel criteria. It will use generic GPU kernel as fallback when running on GPU\n",
            "Epoch 1/20\n",
            "231/231 [==============================] - 21s 85ms/step - loss: 0.0899 - mae: 0.1588 - val_loss: 0.0069 - val_mae: 0.0298\n",
            "Epoch 2/20\n",
            "231/231 [==============================] - 19s 84ms/step - loss: 0.0034 - mae: 0.0194 - val_loss: 0.0067 - val_mae: 0.0183\n",
            "Epoch 3/20\n",
            "231/231 [==============================] - 19s 84ms/step - loss: 0.0027 - mae: 0.0181 - val_loss: 0.0071 - val_mae: 0.0234\n",
            "Epoch 4/20\n",
            "231/231 [==============================] - 19s 82ms/step - loss: 0.0018 - mae: 0.0173 - val_loss: 0.0081 - val_mae: 0.0505\n",
            "Epoch 5/20\n",
            "231/231 [==============================] - 19s 84ms/step - loss: 0.0025 - mae: 0.0210 - val_loss: 0.0068 - val_mae: 0.0198\n",
            "Epoch 6/20\n",
            "231/231 [==============================] - 19s 84ms/step - loss: 0.0024 - mae: 0.0172 - val_loss: 0.0067 - val_mae: 0.0251\n",
            "Epoch 7/20\n",
            "231/231 [==============================] - 20s 85ms/step - loss: 0.0020 - mae: 0.0175 - val_loss: 0.0067 - val_mae: 0.0218\n",
            "Epoch 8/20\n",
            "231/231 [==============================] - 19s 84ms/step - loss: 0.0025 - mae: 0.0192 - val_loss: 0.0068 - val_mae: 0.0195\n",
            "Epoch 9/20\n",
            "231/231 [==============================] - 20s 85ms/step - loss: 0.0028 - mae: 0.0221 - val_loss: 0.0066 - val_mae: 0.0217\n",
            "Epoch 10/20\n",
            "231/231 [==============================] - 20s 85ms/step - loss: 0.0032 - mae: 0.0216 - val_loss: 0.0066 - val_mae: 0.0194\n",
            "Epoch 11/20\n",
            "231/231 [==============================] - 19s 84ms/step - loss: 0.0029 - mae: 0.0195 - val_loss: 0.0074 - val_mae: 0.0409\n",
            "Epoch 12/20\n",
            "231/231 [==============================] - 19s 84ms/step - loss: 0.0018 - mae: 0.0179 - val_loss: 0.0066 - val_mae: 0.0222\n",
            "Epoch 13/20\n",
            "231/231 [==============================] - 19s 84ms/step - loss: 0.0025 - mae: 0.0191 - val_loss: 0.0070 - val_mae: 0.0252\n",
            "Epoch 14/20\n",
            "231/231 [==============================] - 19s 83ms/step - loss: 0.0032 - mae: 0.0206 - val_loss: 0.0066 - val_mae: 0.0193\n",
            "Epoch 15/20\n",
            "231/231 [==============================] - 19s 84ms/step - loss: 0.0032 - mae: 0.0208 - val_loss: 0.0067 - val_mae: 0.0299\n",
            "Epoch 16/20\n",
            "231/231 [==============================] - 20s 84ms/step - loss: 0.0032 - mae: 0.0207 - val_loss: 0.0071 - val_mae: 0.0286\n",
            "Epoch 17/20\n",
            "231/231 [==============================] - 20s 85ms/step - loss: 0.0014 - mae: 0.0167 - val_loss: 0.0065 - val_mae: 0.0195\n",
            "Epoch 18/20\n",
            "231/231 [==============================] - 19s 83ms/step - loss: 0.0031 - mae: 0.0222 - val_loss: 0.0066 - val_mae: 0.0208\n",
            "Epoch 19/20\n",
            "231/231 [==============================] - 20s 85ms/step - loss: 0.0018 - mae: 0.0174 - val_loss: 0.0064 - val_mae: 0.0207\n",
            "Epoch 20/20\n",
            "231/231 [==============================] - 20s 85ms/step - loss: 0.0029 - mae: 0.0218 - val_loss: 0.0067 - val_mae: 0.0243\n"
          ],
          "name": "stdout"
        },
        {
          "output_type": "execute_result",
          "data": {
            "text/plain": [
              "<tensorflow.python.keras.callbacks.History at 0x7f05122e4a10>"
            ]
          },
          "metadata": {
            "tags": []
          },
          "execution_count": 66
        }
      ]
    },
    {
      "cell_type": "code",
      "metadata": {
        "colab": {
          "base_uri": "https://localhost:8080/"
        },
        "id": "57ZWGDIUy0_y",
        "outputId": "ae04203f-cb0a-4141-dbb8-fc969e66d340"
      },
      "source": [
        "X_train.shape, X_test.shape"
      ],
      "execution_count": 67,
      "outputs": [
        {
          "output_type": "execute_result",
          "data": {
            "text/plain": [
              "((7381, 30, 1), (1823, 30, 1))"
            ]
          },
          "metadata": {
            "tags": []
          },
          "execution_count": 67
        }
      ]
    },
    {
      "cell_type": "code",
      "metadata": {
        "colab": {
          "base_uri": "https://localhost:8080/"
        },
        "id": "nwigY_Xbzz1s",
        "outputId": "0fceebc5-c21f-493d-ea81-70a841528b69"
      },
      "source": [
        "predicted_value = model.predict(X_test)\n",
        "predicted_value.shape, y_test.shape"
      ],
      "execution_count": 68,
      "outputs": [
        {
          "output_type": "execute_result",
          "data": {
            "text/plain": [
              "((1823, 1), (1823, 1))"
            ]
          },
          "metadata": {
            "tags": []
          },
          "execution_count": 68
        }
      ]
    },
    {
      "cell_type": "code",
      "metadata": {
        "id": "8BwSD58GNJ6h",
        "colab": {
          "base_uri": "https://localhost:8080/",
          "height": 265
        },
        "outputId": "a5a3b764-0cf3-4a5a-93b1-603a80e53733"
      },
      "source": [
        "plt.plot(y_test, 'r', label = 'True Values')\n",
        "plt.plot(predicted_value, 'b', label = 'Predicted Values')\n",
        "plt.legend()\n",
        "plt.show()"
      ],
      "execution_count": 69,
      "outputs": [
        {
          "output_type": "display_data",
          "data": {
            "image/png": "[encoded data removed]",
            "text/plain": [
              "<Figure size 432x288 with 1 Axes>"
            ]
          },
          "metadata": {
            "tags": [],
            "needs_background": "light"
          }
        }
      ]
    },
    {
      "cell_type": "code",
      "metadata": {
        "id": "ItY8-WWm9Ay-"
      },
      "source": [
        ""
      ],
      "execution_count": 69,
      "outputs": []
    }
  ]
}